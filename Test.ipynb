{
 "cells": [
  {
   "cell_type": "code",
   "execution_count": 2,
   "id": "79d5ce49",
   "metadata": {},
   "outputs": [],
   "source": [
    "import pandas as pd\n",
    "import numpy as np\n",
    "import matplotlib.pyplot as plt\n",
    "import scipy.stats as stats\n",
    "\n",
    "columns = ['One', 'Two', 'Three']\n",
    "rows = np.arange(0,100)\n",
    "data = np.random.normal(size = 1000)\n",
    "#df = pd.DataFrame(data = data, columns = columns, index = rows)\n",
    "#df.fillna(np.random.randint(0,100), inplace = True)\n"
   ]
  },
  {
   "cell_type": "code",
   "execution_count": 29,
   "id": "16df6f7d-da19-41be-9d69-baf688e670fc",
   "metadata": {},
   "outputs": [],
   "source": [
    "def hypthosis_testing(sample1, sample_size = 20, alpha = .05):\n"
   ]
  },
  {
   "cell_type": "code",
   "execution_count": 30,
   "id": "497e786d-3aea-4b38-83df-6419f81daa51",
   "metadata": {},
   "outputs": [
    {
     "name": "stdout",
     "output_type": "stream",
     "text": [
      "Results: Failed to reject Null Hypothesis\n",
      "There is no difference between this distribution and a normal distibution\n",
      "p_val: 0.4033|alpha: 0.05\n"
     ]
    },
    {
     "data": {
      "text/plain": [
       "KstestResult(statistic=0.02805617111089348, pvalue=0.4032507214587241)"
      ]
     },
     "execution_count": 30,
     "metadata": {},
     "output_type": "execute_result"
    }
   ],
   "source": [
    "hypthosis_testing(data, data2)"
   ]
  },
  {
   "cell_type": "code",
   "execution_count": null,
   "id": "b86e04a5-4d5b-4b2b-b2e5-4c38ec039585",
   "metadata": {},
   "outputs": [],
   "source": []
  }
 ],
 "metadata": {
  "kernelspec": {
   "display_name": "Python 3 (ipykernel)",
   "language": "python",
   "name": "python3"
  },
  "language_info": {
   "codemirror_mode": {
    "name": "ipython",
    "version": 3
   },
   "file_extension": ".py",
   "mimetype": "text/x-python",
   "name": "python",
   "nbconvert_exporter": "python",
   "pygments_lexer": "ipython3",
   "version": "3.9.13"
  }
 },
 "nbformat": 4,
 "nbformat_minor": 5
}
