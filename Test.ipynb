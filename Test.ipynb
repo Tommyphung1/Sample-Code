{
 "cells": [
  {
   "cell_type": "code",
   "execution_count": 25,
   "id": "d57732c6-7d2e-4ab6-88c4-4aeb9cda9aaa",
   "metadata": {},
   "outputs": [],
   "source": [
    "import pandas as pd\n",
    "import numpy as np\n",
    "\n",
    "columns = np.arange(0,10)\n",
    "rows = np.arange(0,10)\n",
    "data = np.random.randint(0,5, size = (len(columns),len(rows)))\n",
    "df = pd.DataFrame(data = data, columns= columns)\n",
    "#df.fillna(np.random.randint(0,100), inplace = True)\n"
   ]
  }
 ],
 "metadata": {
  "kernelspec": {
   "display_name": "Python 3 (ipykernel)",
   "language": "python",
   "name": "python3"
  },
  "language_info": {
   "codemirror_mode": {
    "name": "ipython",
    "version": 3
   },
   "file_extension": ".py",
   "mimetype": "text/x-python",
   "name": "python",
   "nbconvert_exporter": "python",
   "pygments_lexer": "ipython3",
   "version": "3.9.13"
  }
 },
 "nbformat": 4,
 "nbformat_minor": 5
}
